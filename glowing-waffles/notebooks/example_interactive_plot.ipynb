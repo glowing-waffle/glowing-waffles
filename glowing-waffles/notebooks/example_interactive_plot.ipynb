{
 "cells": [
  {
   "cell_type": "code",
   "execution_count": 6,
   "metadata": {
    "collapsed": false
   },
   "outputs": [],
   "source": [
    "from __future__ import print_function, division\n",
    "\n",
    "import ipywidgets as ipw\n",
    "\n",
    "import numpy as np\n",
    "\n",
    "from skimage.measure import block_reduce\n",
    "\n",
    "from astropy.visualization import scale_image\n",
    "from astropy.nddata import block_replicate\n",
    "from ccdproc import CCDData\n",
    "\n",
    "from photutils.morphology import (centroid_com, centroid_1dg,\n",
    "                                  centroid_2dg)\n",
    "\n",
    "import matplotlib.pyplot as plt\n",
    "\n",
    "from source_detection import *\n",
    "\n",
    "\n",
    "# The nbagg backend is what allows the interactivity.\n",
    "%matplotlib nbagg"
   ]
  },
  {
   "cell_type": "code",
   "execution_count": 7,
   "metadata": {
    "collapsed": true
   },
   "outputs": [],
   "source": [
    "# This function really should be somewhere else eventually.\n",
    "def scale_and_downsample(data, downsample=4,\n",
    "                         min_percent=20,\n",
    "                         max_percent=99.5):\n",
    "\n",
    "    scaled_data = scale_image(data,\n",
    "                              min_percent=min_percent,\n",
    "                              max_percent=max_percent)\n",
    "\n",
    "    if downsample > 1:\n",
    "        scaled_data = block_reduce(scaled_data,\n",
    "                                   block_size=(downsample, downsample))\n",
    "    return scaled_data\n",
    "\n"
   ]
  },
  {
   "cell_type": "code",
   "execution_count": 8,
   "metadata": {
    "collapsed": false
   },
   "outputs": [
    {
     "data": {
      "text/plain": [
       "0"
      ]
     },
     "execution_count": 8,
     "metadata": {},
     "output_type": "execute_result"
    }
   ],
   "source": [
    "# test_image contains the actual data\n",
    "test_image = CCDData.read('M52-002R.fit')\n",
    "\n",
    "# test_scaled is what is displayed later. It has been scaled to bring out the dim stars.\n",
    "test_scaled = scale_and_downsample(test_image, downsample=1)\n",
    "\n",
    "# For testing, just working with a part of the image.\n",
    "\n",
    "x_cut = slice(0, 1000)\n",
    "y_cut = slice(0, 1500)\n",
    "\n",
    "# Slice out the piece we are using for testing from the display image.\n",
    "test_scaled = test_scaled[x_cut, y_cut]\n",
    "\n",
    "# Make sure we do the same cut from the data.\n",
    "image_cut = test_image.data[x_cut, y_cut]\n",
    "\n",
    "# For photometry or center finding need to do at least a rough removal of\n",
    "# the background in the image.\n",
    "image_cut -= np.median(image_cut)\n",
    "\n",
    "# We could mask out bad pixels....for now we will not.\n",
    "mask = image_cut > 1e6\n",
    "mask.sum()"
   ]
  },
  {
   "cell_type": "code",
   "execution_count": 11,
   "metadata": {
    "collapsed": false
   },
   "outputs": [
    {
     "name": "stdout",
     "output_type": "stream",
     "text": [
      " id   xcentroid     ycentroid   ...   peak       flux           mag       \n",
      "--- ------------- ------------- ... ------- ------------- ----------------\n",
      "  1 1324.09034761 750.385716431 ... 58859.0 2.32694624425  -0.916965876467\n",
      "  2 1321.70201669 750.489745601 ... 52812.0 2.09698635588  -0.803989011803\n",
      "  3 1324.81572432 750.860452825 ... 58951.0 2.52569364438   -1.00595167847\n",
      "  4 684.528750315 1595.22912974 ... 24311.0 1.03345398725 -0.0357278629614\n"
     ]
    }
   ],
   "source": [
    "x = source_detection(test_image.data)\n",
    "print(x)"
   ]
  },
  {
   "cell_type": "markdown",
   "metadata": {},
   "source": [
    "## None of the code below should end up in the notebook \n",
    "\n",
    "Eventually it should all be in python modules we are importing from or encapsulted in a class."
   ]
  },
  {
   "cell_type": "code",
   "execution_count": null,
   "metadata": {
    "collapsed": false
   },
   "outputs": [],
   "source": [
    "# Make the plot and display the scaled image. Stick with grayscale, but reversed.\n",
    "\n",
    "fig = plt.figure()\n",
    "ax = fig.add_subplot(111)\n",
    "ax.imshow(test_scaled, cmap='gray_r',)\n",
    "\n",
    "# Not quite sure why this is needed but it seems to be.\n",
    "ax.set_xlim(0, test_scaled.shape[1])\n",
    "ax.set_ylim(test_scaled.shape[0], 0)\n",
    "\n",
    "# Define functions to handle some of the possible events. There is no reason we \n",
    "# need to actually handle all of these events, this is just to show the kind of \n",
    "# things that are possible.\n",
    "\n",
    "def onclick(event):\n",
    "    \"\"\"\n",
    "    Display a circle around the star closest to the place the user clicked.\n",
    "    \n",
    "    What 'closest' really means here is the location found in a small region\n",
    "    near the click using a method pulled from photutils.\n",
    "    \"\"\"\n",
    "    \n",
    "    # Size of small region near the click.\n",
    "    stamp_size = 20\n",
    "    \n",
    "    # Get the location of the click, rounded to the nearest pixel. Note\n",
    "    # that the event.x is a number from 0 to 1 covering the whole drawing \n",
    "    # canvas, but event.xdata is the position indicated in the units \n",
    "    # on the axes.\n",
    "    click_x_data = np.int(event.xdata)\n",
    "    click_y_data = np.int(event.ydata)\n",
    "    \n",
    "    # Define a slice centered on the click\n",
    "    slice_x = slice(click_x_data - stamp_size/2, click_x_data + stamp_size/2)\n",
    "    slice_y = slice(click_y_data - stamp_size/2, click_y_data + stamp_size/2)\n",
    "\n",
    "    # IMPORTANT: the cutout is done from the DATA not from the displayed image.\n",
    "    cutout = image_cut[slice_y, slice_x]\n",
    "    \n",
    "    # Use centroid_2dg form photutils to find the center of any Gaussian-like maxima\n",
    "    # in the cutout.\n",
    "    center_x, center_y = centroid_2dg(cutout, mask=mask[slice_y, slice_x])\n",
    "\n",
    "    # Really just changing the title for debugging to make sure something \n",
    "    # happened.\n",
    "    ax.set_title('button=%d, x=%d, y=%d, xdata=%f, ydata=%f'%(\n",
    "        event.button, event.x, event.y, event.xdata, event.ydata))\n",
    "    \n",
    "    # More debugging.\n",
    "    ax.set_xlabel('x=%f y=%f, cx=%f cy=%f' % (center_x, center_y, \n",
    "                                           event.xdata + (center_x - stamp_size/2),\n",
    "                                           event.ydata + (center_y - stamp_size/2)))\n",
    "    \n",
    "    # Add the marker in a few steps...\n",
    "    \n",
    "    # Calculate the x position of the centroid position in the larger\n",
    "    # array (NOTE: this whole cutout thing could be improved by using\n",
    "    # the Cutout2D class from astropy.nddata, I think)\n",
    "    \n",
    "    x_center_in_data = event.xdata + (center_x - stamp_size/2)\n",
    "    y_center_in_data = event.ydata + (center_y - stamp_size/2)\n",
    "\n",
    "    # Draw the marker. Eventually probably need to use ax.scatter to\n",
    "    # be able to change the size of the marker in some sensible way.\n",
    "    ax.plot([x_center_in_data], \n",
    "            [y_center_in_data], 'o', \n",
    "            markerfacecolor='none', \n",
    "            markeredgecolor='cyan',)\n",
    "    \n",
    "    display_cutout(cutout, ax)\n",
    "    \n",
    "    # Really no good reason for this.\n",
    "    ax.set_ylabel('%f' % cutout.sum())\n",
    "\n",
    "# You can call this (and the other event handling functions) anything\n",
    "# you want.\n",
    "def on_key(event):\n",
    "    plt.xlabel('you pressed {}'.format(event.key, event.xdata, event.ydata))\n",
    "    \n",
    "def off_key(event):\n",
    "    plt.xlabel('you released {}'.format(event.key, event.xdata, event.ydata))\n",
    "\n",
    "# Drawing a new image for mouse movement events seems a little slow, at least\n",
    "# if the plot is open for a while.\n",
    "def mouse_moved(event):\n",
    "    # Yuck. This code duplicates the click stuff above.\n",
    "    stamp_size = 20\n",
    "    click_x_data = np.int(event.xdata)\n",
    "    click_y_data = np.int(event.ydata)\n",
    "    slice_x = slice(click_x_data-stamp_size/2, click_x_data+stamp_size/2)\n",
    "    slice_y = slice(click_y_data-stamp_size/2, click_y_data+stamp_size/2)\n",
    "    cutout = image_cut[slice_y, slice_x]\n",
    "    \n",
    "    display_cutout(cutout, ax)\n",
    "    plt.xlabel('you moved {}'.format(event.key, event.xdata, event.ydata))\n",
    "\n",
    "def display_cutout(cutout, ax, min_width=300):\n",
    "    # Display a little zoom-in of the cutout. No good reason \n",
    "    # for doing that, really. Use a different colormap so the cutout\n",
    "    # stands out.\n",
    "    \n",
    "    # Scale up the cutout in size first so it isn't tiny...\n",
    "    zoom_factor = min_width // max(cutout.shape)\n",
    "    scaled_up = block_replicate(cutout, block_size=zoom_factor)\n",
    "    # Display it.\n",
    "    ax.imshow(scaled_up, cmap='plasma')\n",
    "    \n",
    "\n",
    "# This is where the functions defined above get connected to specific \n",
    "# events.\n",
    "cid1 = fig.canvas.mpl_connect('button_press_event', onclick)\n",
    "cid2 = fig.canvas.mpl_connect('key_press_event', on_key)\n",
    "cid3 = fig.canvas.mpl_connect('key_release_event', off_key)\n",
    "cid4 = fig.canvas.mpl_connect('motion_notify_event', mouse_moved)"
   ]
  },
  {
   "cell_type": "code",
   "execution_count": null,
   "metadata": {
    "collapsed": true
   },
   "outputs": [],
   "source": []
  }
 ],
 "metadata": {
  "kernelspec": {
   "display_name": "Python 2",
   "language": "python",
   "name": "python2"
  },
  "language_info": {
   "codemirror_mode": {
    "name": "ipython",
    "version": 2
   },
   "file_extension": ".py",
   "mimetype": "text/x-python",
   "name": "python",
   "nbconvert_exporter": "python",
   "pygments_lexer": "ipython2",
   "version": "2.7.11"
  }
 },
 "nbformat": 4,
 "nbformat_minor": 0
}
